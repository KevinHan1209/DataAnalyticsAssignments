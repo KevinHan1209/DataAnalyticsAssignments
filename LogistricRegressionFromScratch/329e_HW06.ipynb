{
 "cells": [
  {
   "cell_type": "markdown",
   "metadata": {},
   "source": [
    "# Homework 6  - Logistic Regression without using any libraries. \n",
    "\n",
    "## Your Name Here\n",
    "\n",
    "Student Name: Kevin Han\n",
    "\n",
    "Student UT EID: kh38823\n",
    "\n",
    "---\n",
    "\n",
    "Partner Name: Christine Kim\n",
    "\n",
    "Partner UT EID:\n",
    "\n",
    "---\n",
    "\n",
    "Date Created: 03/03/2024\n",
    "\n",
    "Date Last Modified: 03/03/2024\n",
    "\n",
    "---\n",
    "\n",
    "Totoal Points 20. \n",
    "\n"
   ]
  },
  {
   "cell_type": "code",
   "execution_count": 141,
   "metadata": {},
   "outputs": [],
   "source": [
    "# Standard Headers\n",
    "# You are welcome to add additional headers here if you wish\n",
    "import pandas as pd\n",
    "import numpy as np\n",
    "import matplotlib.pyplot as plt\n",
    "\n",
    "# Enable inline mode for matplotlib so that Jupyter displays graphs\n",
    "%matplotlib inline"
   ]
  },
  {
   "cell_type": "markdown",
   "metadata": {},
   "source": [
    "# Your allowed to use only the above libraries that are imported. No other libs should be used in this assignment. "
   ]
  },
  {
   "cell_type": "markdown",
   "metadata": {},
   "source": [
    "## Heart Dataset \n",
    "\n",
    "In this Assignment we will work with some patients dataset. \n",
    "\n",
    "We have access to 303 patients data. The features are listed below. "
   ]
  },
  {
   "cell_type": "code",
   "execution_count": 178,
   "metadata": {},
   "outputs": [
    {
     "data": {
      "text/html": [
       "<div>\n",
       "<style scoped>\n",
       "    .dataframe tbody tr th:only-of-type {\n",
       "        vertical-align: middle;\n",
       "    }\n",
       "\n",
       "    .dataframe tbody tr th {\n",
       "        vertical-align: top;\n",
       "    }\n",
       "\n",
       "    .dataframe thead th {\n",
       "        text-align: right;\n",
       "    }\n",
       "</style>\n",
       "<table border=\"1\" class=\"dataframe\">\n",
       "  <thead>\n",
       "    <tr style=\"text-align: right;\">\n",
       "      <th></th>\n",
       "      <th>Age</th>\n",
       "      <th>Sex</th>\n",
       "      <th>ChestPain</th>\n",
       "      <th>RestBP</th>\n",
       "      <th>Chol</th>\n",
       "      <th>Fbs</th>\n",
       "      <th>RestECG</th>\n",
       "      <th>MaxHR</th>\n",
       "      <th>ExAng</th>\n",
       "      <th>Oldpeak</th>\n",
       "      <th>Slope</th>\n",
       "      <th>Ca</th>\n",
       "      <th>Thal</th>\n",
       "      <th>Target</th>\n",
       "    </tr>\n",
       "  </thead>\n",
       "  <tbody>\n",
       "    <tr>\n",
       "      <th>0</th>\n",
       "      <td>63</td>\n",
       "      <td>1</td>\n",
       "      <td>typical</td>\n",
       "      <td>145</td>\n",
       "      <td>233</td>\n",
       "      <td>1</td>\n",
       "      <td>2</td>\n",
       "      <td>150</td>\n",
       "      <td>0</td>\n",
       "      <td>2.3</td>\n",
       "      <td>3</td>\n",
       "      <td>0.0</td>\n",
       "      <td>fixed</td>\n",
       "      <td>No</td>\n",
       "    </tr>\n",
       "    <tr>\n",
       "      <th>1</th>\n",
       "      <td>67</td>\n",
       "      <td>1</td>\n",
       "      <td>asymptomatic</td>\n",
       "      <td>160</td>\n",
       "      <td>286</td>\n",
       "      <td>0</td>\n",
       "      <td>2</td>\n",
       "      <td>108</td>\n",
       "      <td>1</td>\n",
       "      <td>1.5</td>\n",
       "      <td>2</td>\n",
       "      <td>3.0</td>\n",
       "      <td>normal</td>\n",
       "      <td>Yes</td>\n",
       "    </tr>\n",
       "    <tr>\n",
       "      <th>2</th>\n",
       "      <td>67</td>\n",
       "      <td>1</td>\n",
       "      <td>asymptomatic</td>\n",
       "      <td>120</td>\n",
       "      <td>229</td>\n",
       "      <td>0</td>\n",
       "      <td>2</td>\n",
       "      <td>129</td>\n",
       "      <td>1</td>\n",
       "      <td>2.6</td>\n",
       "      <td>2</td>\n",
       "      <td>2.0</td>\n",
       "      <td>reversable</td>\n",
       "      <td>Yes</td>\n",
       "    </tr>\n",
       "    <tr>\n",
       "      <th>3</th>\n",
       "      <td>37</td>\n",
       "      <td>1</td>\n",
       "      <td>nonanginal</td>\n",
       "      <td>130</td>\n",
       "      <td>250</td>\n",
       "      <td>0</td>\n",
       "      <td>0</td>\n",
       "      <td>187</td>\n",
       "      <td>0</td>\n",
       "      <td>3.5</td>\n",
       "      <td>3</td>\n",
       "      <td>0.0</td>\n",
       "      <td>normal</td>\n",
       "      <td>No</td>\n",
       "    </tr>\n",
       "    <tr>\n",
       "      <th>4</th>\n",
       "      <td>41</td>\n",
       "      <td>0</td>\n",
       "      <td>nontypical</td>\n",
       "      <td>130</td>\n",
       "      <td>204</td>\n",
       "      <td>0</td>\n",
       "      <td>2</td>\n",
       "      <td>172</td>\n",
       "      <td>0</td>\n",
       "      <td>1.4</td>\n",
       "      <td>1</td>\n",
       "      <td>0.0</td>\n",
       "      <td>normal</td>\n",
       "      <td>No</td>\n",
       "    </tr>\n",
       "    <tr>\n",
       "      <th>...</th>\n",
       "      <td>...</td>\n",
       "      <td>...</td>\n",
       "      <td>...</td>\n",
       "      <td>...</td>\n",
       "      <td>...</td>\n",
       "      <td>...</td>\n",
       "      <td>...</td>\n",
       "      <td>...</td>\n",
       "      <td>...</td>\n",
       "      <td>...</td>\n",
       "      <td>...</td>\n",
       "      <td>...</td>\n",
       "      <td>...</td>\n",
       "      <td>...</td>\n",
       "    </tr>\n",
       "    <tr>\n",
       "      <th>298</th>\n",
       "      <td>45</td>\n",
       "      <td>1</td>\n",
       "      <td>typical</td>\n",
       "      <td>110</td>\n",
       "      <td>264</td>\n",
       "      <td>0</td>\n",
       "      <td>0</td>\n",
       "      <td>132</td>\n",
       "      <td>0</td>\n",
       "      <td>1.2</td>\n",
       "      <td>2</td>\n",
       "      <td>0.0</td>\n",
       "      <td>reversable</td>\n",
       "      <td>Yes</td>\n",
       "    </tr>\n",
       "    <tr>\n",
       "      <th>299</th>\n",
       "      <td>68</td>\n",
       "      <td>1</td>\n",
       "      <td>asymptomatic</td>\n",
       "      <td>144</td>\n",
       "      <td>193</td>\n",
       "      <td>1</td>\n",
       "      <td>0</td>\n",
       "      <td>141</td>\n",
       "      <td>0</td>\n",
       "      <td>3.4</td>\n",
       "      <td>2</td>\n",
       "      <td>2.0</td>\n",
       "      <td>reversable</td>\n",
       "      <td>Yes</td>\n",
       "    </tr>\n",
       "    <tr>\n",
       "      <th>300</th>\n",
       "      <td>57</td>\n",
       "      <td>1</td>\n",
       "      <td>asymptomatic</td>\n",
       "      <td>130</td>\n",
       "      <td>131</td>\n",
       "      <td>0</td>\n",
       "      <td>0</td>\n",
       "      <td>115</td>\n",
       "      <td>1</td>\n",
       "      <td>1.2</td>\n",
       "      <td>2</td>\n",
       "      <td>1.0</td>\n",
       "      <td>reversable</td>\n",
       "      <td>Yes</td>\n",
       "    </tr>\n",
       "    <tr>\n",
       "      <th>301</th>\n",
       "      <td>57</td>\n",
       "      <td>0</td>\n",
       "      <td>nontypical</td>\n",
       "      <td>130</td>\n",
       "      <td>236</td>\n",
       "      <td>0</td>\n",
       "      <td>2</td>\n",
       "      <td>174</td>\n",
       "      <td>0</td>\n",
       "      <td>0.0</td>\n",
       "      <td>2</td>\n",
       "      <td>1.0</td>\n",
       "      <td>normal</td>\n",
       "      <td>Yes</td>\n",
       "    </tr>\n",
       "    <tr>\n",
       "      <th>302</th>\n",
       "      <td>38</td>\n",
       "      <td>1</td>\n",
       "      <td>nonanginal</td>\n",
       "      <td>138</td>\n",
       "      <td>175</td>\n",
       "      <td>0</td>\n",
       "      <td>0</td>\n",
       "      <td>173</td>\n",
       "      <td>0</td>\n",
       "      <td>0.0</td>\n",
       "      <td>1</td>\n",
       "      <td>NaN</td>\n",
       "      <td>normal</td>\n",
       "      <td>No</td>\n",
       "    </tr>\n",
       "  </tbody>\n",
       "</table>\n",
       "<p>303 rows × 14 columns</p>\n",
       "</div>"
      ],
      "text/plain": [
       "     Age  Sex     ChestPain  RestBP  Chol  Fbs  RestECG  MaxHR  ExAng  \\\n",
       "0     63    1       typical     145   233    1        2    150      0   \n",
       "1     67    1  asymptomatic     160   286    0        2    108      1   \n",
       "2     67    1  asymptomatic     120   229    0        2    129      1   \n",
       "3     37    1    nonanginal     130   250    0        0    187      0   \n",
       "4     41    0    nontypical     130   204    0        2    172      0   \n",
       "..   ...  ...           ...     ...   ...  ...      ...    ...    ...   \n",
       "298   45    1       typical     110   264    0        0    132      0   \n",
       "299   68    1  asymptomatic     144   193    1        0    141      0   \n",
       "300   57    1  asymptomatic     130   131    0        0    115      1   \n",
       "301   57    0    nontypical     130   236    0        2    174      0   \n",
       "302   38    1    nonanginal     138   175    0        0    173      0   \n",
       "\n",
       "     Oldpeak  Slope   Ca        Thal Target  \n",
       "0        2.3      3  0.0       fixed     No  \n",
       "1        1.5      2  3.0      normal    Yes  \n",
       "2        2.6      2  2.0  reversable    Yes  \n",
       "3        3.5      3  0.0      normal     No  \n",
       "4        1.4      1  0.0      normal     No  \n",
       "..       ...    ...  ...         ...    ...  \n",
       "298      1.2      2  0.0  reversable    Yes  \n",
       "299      3.4      2  2.0  reversable    Yes  \n",
       "300      1.2      2  1.0  reversable    Yes  \n",
       "301      0.0      2  1.0      normal    Yes  \n",
       "302      0.0      1  NaN      normal     No  \n",
       "\n",
       "[303 rows x 14 columns]"
      ]
     },
     "execution_count": 178,
     "metadata": {},
     "output_type": "execute_result"
    }
   ],
   "source": [
    "# Your code here\n",
    "heart_df = pd.read_csv(\"Heart.csv\")\n",
    "heart_df"
   ]
  },
  {
   "cell_type": "markdown",
   "metadata": {},
   "source": [
    "**Age:** The person’s age in years\n",
    "\n",
    "**Sex:** The person’s sex (1 = male, 0 = female)\n",
    "\n",
    "**ChestPain:** chest pain type\n",
    "\n",
    "* Value 0: asymptomatic\n",
    "* Value 1: atypical angina\n",
    "* Value 2: non-anginal pain\n",
    "* Value 3: typical angina\n",
    "\n",
    "**RestBP:** The person’s resting blood pressure (mm Hg on admission to the hospital)\n",
    "\n",
    "**Chol:** The person’s cholesterol measurement in mg/dl\n",
    "\n",
    "**Fbs:** The person’s fasting blood sugar (> 120 mg/dl, 1 = true; 0 = false)\n",
    "restecg: resting electrocardiographic results\n",
    "\n",
    "* Value 0: showing probable or definite left ventricular hypertrophy by Estes’ criteria\n",
    "* Value 1: normal\n",
    "* Value 2: having ST-T wave abnormality (T wave inversions and/or ST elevation or depression of > 0.05 mV)\n",
    "\n",
    "**RestECG:** The person’s maximum heart rate achieved\n",
    "\n",
    "**MaxHR:** Exercise induced angina (1 = yes; 0 = no)\n",
    "\n",
    "**Oldpeak:** ST depression induced by exercise relative to rest (‘ST’ relates to positions on the ECG plot. See more here)\n",
    "\n",
    "**Slope:** the slope of the peak exercise ST segment — 0: downsloping; 1: flat; 2: upsloping\n",
    "\n",
    "* 0: downsloping; \n",
    "* 1: flat; \n",
    "* 2: upsloping\n",
    "\n",
    "**Ca:** The number of major vessels (0–3)\n",
    "\n",
    "**Thal:** A blood disorder called thalassemia Value 0: NULL (dropped from the dataset previously\n",
    "\n",
    "* Value 1: fixed defect (no blood flow in some part of the heart)\n",
    "* Value 2: normal blood flow\n",
    "* Value 3: reversible defect (a blood flow is observed but it is not normal)\n",
    "\n",
    "**Target:** Heart disease (1 = no, 0= yes)"
   ]
  },
  {
   "cell_type": "markdown",
   "metadata": {},
   "source": [
    "# Task 1 - (4 points)\n",
    "We want to use logistic regerssion to predict if a patient will have heart problems or not. The column \"Target\" in our datasets includes data about heart disease. If the patient had heart disease, the patient's \"Target\" value equals 1. Otherwise, \"Target\" equals 0.\n",
    "\n",
    "Prepare your data set for predicting heart disease (\"Target\" column) by using 3 features:\n",
    "\n",
    "* Age of the patient (Column **\"Age\"**)\n",
    "* Gender of the patient (male or female - Column **\"Sex\"**)\n",
    "* Cholestrol level of the patient (Column **\"Chol\"**) \n",
    "\n",
    "Split your data into 80% traning data and 20% test data ***without*** using any libraries other than the ones imported above. You must do it manually.\n",
    "\n",
    "* Do a maximum of **100 iterations**\n",
    "* Use a very small learning rate for checking your GD implementation. \n",
    "* Your are allowed to use your choice of learning rate, like using 0.0001, 0.001 or 0.01 or 0.1 or higher/lower. \n",
    "* **Visualize your error/costs over the iterations with a plot**.\n",
    "* No need to add an y-intercept in this task. \n",
    "\n",
    "(**4 points** - 3 points for code, 1 point for cost visualization)"
   ]
  },
  {
   "cell_type": "code",
   "execution_count": 179,
   "metadata": {},
   "outputs": [],
   "source": [
    "# hot encode\n",
    "heart_df['Target'] = heart_df['Target'].map({'No': 0, 'Yes': 1})\n"
   ]
  },
  {
   "cell_type": "code",
   "execution_count": 185,
   "metadata": {},
   "outputs": [
    {
     "name": "stdout",
     "output_type": "stream",
     "text": [
      "Epoch 0 cost: 0.6931471805599454\n",
      "Epoch 5 cost: 0.6924461689582418\n",
      "Epoch 10 cost: 0.6918565972595484\n",
      "Epoch 15 cost: 0.6913607115689807\n",
      "Epoch 20 cost: 0.690943582176519\n",
      "Epoch 25 cost: 0.6905926575961873\n",
      "Epoch 30 cost: 0.6902973875852382\n",
      "Epoch 35 cost: 0.6900489050117118\n",
      "Epoch 40 cost: 0.6898397577370317\n",
      "Epoch 45 cost: 0.6896636828797456\n",
      "Epoch 50 cost: 0.6895154169078173\n",
      "Epoch 55 cost: 0.6893905359647116\n",
      "Epoch 60 cost: 0.6892853216720353\n",
      "Epoch 65 cost: 0.6891966483767128\n",
      "Epoch 70 cost: 0.689121888433932\n",
      "Epoch 75 cost: 0.6890588326496843\n",
      "Epoch 80 cost: 0.6890056234597677\n",
      "Epoch 85 cost: 0.6889606988061708\n",
      "Epoch 90 cost: 0.6889227449964479\n",
      "Epoch 95 cost: 0.6888906571056077\n"
     ]
    }
   ],
   "source": [
    "# randomize and split dataset\n",
    "#heart_df = heart_df.sample(frac=1, random_state = 0)\n",
    "trainingLen = int(len(heart_df) * 0.8)\n",
    "trainingData = heart_df.loc[:trainingLen, ['Age', 'Sex', 'Chol', 'Target']].to_numpy()\n",
    "testingData = heart_df.loc[trainingLen:, ['Age', 'Sex', 'Chol', 'Target']].to_numpy()\n",
    "independentTraining = trainingData[:, :3]\n",
    "independentTesting = testingData[:, :3]\n",
    "dependentTraining = trainingData[:, 3]\n",
    "dependentTesting = testingData[:, 3]\n",
    "\n",
    "\n",
    "# define functions\n",
    "def sigmoid(z):\n",
    "    g = 1 / (1 + np.exp(-z))\n",
    "    return g\n",
    "\n",
    "def cost_function(X, y, weights):\n",
    "    m, n = X.shape\n",
    "    x_dot_weights = X.dot(weights)\n",
    "    cost = 1.0 / m * (-y.T.dot(np.log(sigmoid(x_dot_weights))) - (1 - y).T.dot(np.log(1 - sigmoid(x_dot_weights))))\n",
    "    return cost\n",
    "\n",
    "def gradient(X, y, weights):\n",
    "    m, n = X.shape\n",
    "    x_dot_weights = X.dot(weights)\n",
    "\n",
    "    grad = (1.0 / m )* (sigmoid(x_dot_weights) - y).T.dot(X)\n",
    "\n",
    "    return grad\n",
    "\n",
    "\n",
    "# Set up hyperparams\n",
    "weights = np.zeros(3)\n",
    "learningRate = 0.000001\n",
    "max_iter = 100\n",
    "cost_list = []\n",
    "iters= []\n",
    "\n",
    "for i in range(max_iter):\n",
    "\n",
    "    iters.append(i)\n",
    "    cost = cost_function(independentTraining, dependentTraining, weights)\n",
    "    if i%5 == 0:\n",
    "        print(\"Epoch \" + str(i) + \" cost:\", cost)\n",
    "    cost_list.append(cost)\n",
    "    \n",
    "    grad = gradient(independentTraining, dependentTraining, weights)\n",
    "    \n",
    "    weights = weights - learningRate * grad    \n"
   ]
  },
  {
   "cell_type": "code",
   "execution_count": 186,
   "metadata": {},
   "outputs": [
    {
     "data": {
      "image/png": "[encoded data removed]",
      "text/plain": [
       "<Figure size 640x480 with 1 Axes>"
      ]
     },
     "metadata": {},
     "output_type": "display_data"
    }
   ],
   "source": [
    "plt.plot(iters, cost_list)\n",
    "plt.title('Cost vs Epoch')\n",
    "plt.xlabel('Epoch')\n",
    "plt.ylabel('Cost')\n",
    "plt.show()"
   ]
  },
  {
   "cell_type": "markdown",
   "metadata": {},
   "source": [
    "# Task 2 - (4 points)\n",
    "\n",
    "Cacluate the Accuracy, Precision, Recall and F1 score of your logistic regression implementaion on the testing set. \n",
    "Print the results. \n",
    "\n",
    "You may use equations shown in lecture/slides/examples.\n",
    "\n",
    "Calcuate the accuracy, precision, recall and F1 score of your logistic regression implementaion on the testing set. \n",
    "Print the results. (**4 points**)\n"
   ]
  },
  {
   "cell_type": "code",
   "execution_count": 187,
   "metadata": {},
   "outputs": [
    {
     "name": "stdout",
     "output_type": "stream",
     "text": [
      "Predictions: [0 0 0 0 0 0 0 0 0 0 0 0 0 0 0 0 0 0 0 0 0 0 0 0 0 0 0 0 0 0 0 0 0 0 0 0 0\n",
      " 0 0 0 0 0 0 0 0 0 0 0 0 0 0 0 0 0 0 0 0 0 0 0 0]\n",
      "Accuracy is:  0.47540983606557374\n",
      "Precision is:  nan\n",
      "F1 Score:  nan\n"
     ]
    },
    {
     "name": "stderr",
     "output_type": "stream",
     "text": [
      "/var/folders/j0/5btyzqtd1p918nx0wqtnrpcr0000gn/T/ipykernel_7389/1499599773.py:14: RuntimeWarning: invalid value encountered in scalar divide\n",
      "  precision = TP/(TP + FP)\n"
     ]
    }
   ],
   "source": [
    "# Define functions\n",
    "def predict(weights, X):\n",
    "    p = sigmoid(X.dot(weights)) >= 0.5\n",
    "    return p.astype(int)\n",
    "\n",
    "# Calculate\n",
    "predictions = predict(weights, independentTesting)\n",
    "correct = np.sum(predictions == dependentTesting)\n",
    "TP = np.sum((predictions == 1) & (dependentTesting == 1))\n",
    "FP = np.sum((predictions == 1) & (dependentTesting == 0))\n",
    "TN = np.sum((predictions == 0) & (dependentTesting == 0))\n",
    "FN = np.sum((predictions == 0) & (dependentTesting == 1))\n",
    "\n",
    "precision = TP/(TP + FP)\n",
    "recall = TP/(TP + FN)\n",
    "\n",
    "print(\"Predictions:\", predictions)\n",
    "print(\"Accuracy is: \", correct/dependentTesting.size)\n",
    "print(\"Precision is: \", precision)\n",
    "print(\"F1 Score: \", 2*(precision*recall)/(precision+recall))"
   ]
  },
  {
   "cell_type": "markdown",
   "metadata": {},
   "source": [
    "# Task 3 - (4 points)\n",
    "\n",
    "Add a y-intercept and repeat the above tasks. Do you see any differences after adding the y-intercept?\n",
    "\n",
    "(4 points - 2 for code, 1 for cost visualizaiton, 1 for description.)"
   ]
  },
  {
   "cell_type": "code",
   "execution_count": 188,
   "metadata": {},
   "outputs": [
    {
     "name": "stdout",
     "output_type": "stream",
     "text": [
      "Epoch 0 cost: 0.6931471805599454\n",
      "Epoch 5 cost: 0.68940552677893\n",
      "Epoch 10 cost: 0.6888270847006852\n",
      "Epoch 15 cost: 0.6887306538546627\n",
      "Epoch 20 cost: 0.6887083369070436\n",
      "Epoch 25 cost: 0.6886974920077635\n",
      "Epoch 30 cost: 0.6886884474073186\n",
      "Epoch 35 cost: 0.6886797062091503\n",
      "Epoch 40 cost: 0.6886710364420563\n",
      "Epoch 45 cost: 0.6886624020736845\n",
      "Epoch 50 cost: 0.688653797436496\n",
      "Epoch 55 cost: 0.6886452215696728\n",
      "Epoch 60 cost: 0.6886366742422401\n",
      "Epoch 65 cost: 0.6886281553366261\n",
      "Epoch 70 cost: 0.6886196647531114\n",
      "Epoch 75 cost: 0.6886112023950177\n",
      "Epoch 80 cost: 0.688602768166413\n",
      "Epoch 85 cost: 0.6885943619717544\n",
      "Epoch 90 cost: 0.6885859837158336\n",
      "Epoch 95 cost: 0.6885776333037663\n"
     ]
    }
   ],
   "source": [
    "weights2 = np.zeros(4)\n",
    "newIndependentTraining =  np.column_stack((np.ones_like(dependentTraining), independentTraining))\n",
    "newIndependentTesting = np.column_stack((np.ones_like(dependentTesting), independentTesting))\n",
    "# Set up hyperparams\n",
    "learningRate = 0.00001\n",
    "max_iter = 100\n",
    "cost_list = []\n",
    "iters= []\n",
    "\n",
    "for i in range(max_iter):\n",
    "\n",
    "    iters.append(i)\n",
    "    cost = cost_function(newIndependentTraining, dependentTraining, weights2)\n",
    "    if i%5 == 0:\n",
    "        print(\"Epoch \" + str(i) + \" cost:\", cost)\n",
    "    cost_list.append(cost)\n",
    "    \n",
    "    grad = gradient(newIndependentTraining, dependentTraining, weights2)\n",
    "    \n",
    "    weights2 = weights2 - learningRate * grad \n",
    "\n"
   ]
  },
  {
   "cell_type": "code",
   "execution_count": 189,
   "metadata": {},
   "outputs": [
    {
     "data": {
      "image/png": "[encoded data removed]",
      "text/plain": [
       "<Figure size 640x480 with 1 Axes>"
      ]
     },
     "metadata": {},
     "output_type": "display_data"
    }
   ],
   "source": [
    "plt.plot(iters, cost_list)\n",
    "plt.title('Cost vs Epoch')\n",
    "plt.xlabel('Epoch')\n",
    "plt.ylabel('Cost')\n",
    "plt.show()"
   ]
  },
  {
   "cell_type": "code",
   "execution_count": 190,
   "metadata": {},
   "outputs": [
    {
     "name": "stdout",
     "output_type": "stream",
     "text": [
      "Accuracy is:  0.47540983606557374\n",
      "Precision is:  nan\n",
      "F1 Score:  nan\n",
      "Y-Intercept:  -1.6437894610681818e-05\n"
     ]
    },
    {
     "name": "stderr",
     "output_type": "stream",
     "text": [
      "/var/folders/j0/5btyzqtd1p918nx0wqtnrpcr0000gn/T/ipykernel_7389/927029569.py:9: RuntimeWarning: invalid value encountered in scalar divide\n",
      "  precision = TP/(TP + FP)\n"
     ]
    }
   ],
   "source": [
    "# Calculate\n",
    "predictions = predict(weights2, newIndependentTesting)\n",
    "correct = np.sum(predictions == dependentTesting)\n",
    "TP = np.sum((predictions == 1) & (dependentTesting == 1))\n",
    "FP = np.sum((predictions == 1) & (dependentTesting == 0))\n",
    "TN = np.sum((predictions == 0) & (dependentTesting == 0))\n",
    "FN = np.sum((predictions == 0) & (dependentTesting == 1))\n",
    "\n",
    "precision = TP/(TP + FP)\n",
    "recall = TP/(TP + FN)\n",
    "\n",
    "print(\"Accuracy is: \", correct/dependentTesting.size)\n",
    "print(\"Precision is: \", precision)\n",
    "print(\"F1 Score: \", 2*(precision*recall)/(precision+recall))\n",
    "print('Y-Intercept: ', weights2[0])"
   ]
  },
  {
   "cell_type": "markdown",
   "metadata": {},
   "source": [
    "Adding a y-intercept did not really change anything. The accuracy stayed around the same as well as the precision and F1-Score. However, I think this is due more to chance rather than adding a y-intercept. This is because the optimal y-intercept appears to be approximately zero.\n",
    "\n",
    "The precision and F1 score are nan's because my model is literally predicting all negatives, so since precision is nan due to zero denominator, so is F1 score since it's a function of p recision. "
   ]
  },
  {
   "cell_type": "markdown",
   "metadata": {},
   "source": [
    "# Task 4 - Implement the Bold Driver   - (4 points)\n",
    "\n",
    "Implement the bold driver into your gradient descent implementation, which lets us have a dynamic learning rate. Visualize the costs and print the accuracy/etc. metrics as before. Do not use a y-intercept this time.\n",
    "\n",
    "Add a stop condition that stop the GD when the cost is not changing more than 0.001 between iterations. \n",
    "Describe the results. Did you stop earlier than 100 iterations?\n",
    "(4 points - 2 for code, 1 for cost visualizaiton, 1 for description.)\n",
    "\n"
   ]
  },
  {
   "cell_type": "code",
   "execution_count": 197,
   "metadata": {},
   "outputs": [
    {
     "name": "stdout",
     "output_type": "stream",
     "text": [
      "Epoch 0 cost: 0.6931471805599454\n",
      "Epoch 1 cost: 1.4777307508607385\n",
      "Epoch 2 cost: 5.683973075589877\n",
      "Epoch 3 cost: 0.9661224736407285\n",
      "Epoch 4 cost: 2.1017650143551787\n",
      "Epoch 5 cost: 0.7348854193130894\n",
      "Epoch 6 cost: 0.7564026671794778\n",
      "Epoch 7 cost: 0.6899836349937141\n",
      "Epoch 8 cost: 0.6883669167456673\n",
      "Epoch 9 cost: 0.6882804939467485\n"
     ]
    }
   ],
   "source": [
    "# Set up hyperparams\n",
    "weights3 = np.zeros(3)\n",
    "learningRate = 0.001\n",
    "cost_list = []\n",
    "i = 0\n",
    "iters= []\n",
    "dontStop = True\n",
    "\n",
    "while dontStop:\n",
    "    if i > 0:\n",
    "        prevCost = cost\n",
    "    iters.append(i)\n",
    "    cost = cost_function(independentTraining, dependentTraining, weights3)\n",
    "    if i > 0:\n",
    "        if cost < prevCost:\n",
    "            learningRate *= 1.05\n",
    "        else:\n",
    "            learningRate *= .5\n",
    "    print(\"Epoch \" + str(i) + \" cost:\", cost)\n",
    "    cost_list.append(cost)\n",
    "    \n",
    "    grad = gradient(independentTraining, dependentTraining, weights3)\n",
    "    \n",
    "    weights3 = weights3 - learningRate * grad \n",
    "\n",
    "    if i > 0 and abs(prevCost - cost) <= 0.001:\n",
    "        dontStop = False\n",
    "    i += 1\n",
    "\n"
   ]
  },
  {
   "cell_type": "code",
   "execution_count": 198,
   "metadata": {},
   "outputs": [
    {
     "data": {
      "image/png": "[encoded data removed]",
      "text/plain": [
       "<Figure size 640x480 with 1 Axes>"
      ]
     },
     "metadata": {},
     "output_type": "display_data"
    }
   ],
   "source": [
    "plt.plot(iters, cost_list)\n",
    "plt.title('Cost vs Epoch')\n",
    "plt.xlabel('Epoch')\n",
    "plt.ylabel('Cost')\n",
    "plt.show()"
   ]
  },
  {
   "cell_type": "markdown",
   "metadata": {},
   "source": [
    "Stopped way earlier than 100 iterations, but the cost was a little worse. However, we could've set a stricter stopping criteria and it could've yielded better results at the expense of computation. "
   ]
  },
  {
   "cell_type": "code",
   "execution_count": 193,
   "metadata": {},
   "outputs": [
    {
     "name": "stdout",
     "output_type": "stream",
     "text": [
      "Predictions:  [0 0 0 0 0 0 0 0 0 0 0 0 0 0 0 0 0 0 0 0 0 0 0 0 0 0 0 0 0 0 0 0 0 0 0 0 0\n",
      " 0 0 0 0 0 0 0 0 0 0 0 0 0 0 0 0 0 0 0 0 0 0 0 0]\n",
      "Accuracy is:  0.47540983606557374\n",
      "Precision is:  nan\n",
      "F1 Score:  nan\n"
     ]
    },
    {
     "name": "stderr",
     "output_type": "stream",
     "text": [
      "/var/folders/j0/5btyzqtd1p918nx0wqtnrpcr0000gn/T/ipykernel_7389/3527504735.py:13: RuntimeWarning: invalid value encountered in scalar divide\n",
      "  precision = TP/(TP + FP)\n"
     ]
    }
   ],
   "source": [
    "# Calculate\n",
    "def predict(weights, X):\n",
    "    p = sigmoid(X.dot(weights)) >= 0.5\n",
    "    return p.astype(int)\n",
    "\n",
    "predictions = predict(weights3, independentTesting)\n",
    "correct = np.sum(predictions == dependentTesting)\n",
    "TP = np.sum((predictions == 1) & (dependentTesting == 1))\n",
    "FP = np.sum((predictions == 1) & (dependentTesting == 0))\n",
    "TN = np.sum((predictions == 0) & (dependentTesting == 0))\n",
    "FN = np.sum((predictions == 0) & (dependentTesting == 1))\n",
    "\n",
    "precision = TP/(TP + FP)\n",
    "recall = TP/(TP + FN)\n",
    "print(\"Predictions: \", predictions)\n",
    "print(\"Accuracy is: \", correct/dependentTesting.size)\n",
    "print(\"Precision is: \", precision)\n",
    "print(\"F1 Score: \", 2*(precision*recall)/(precision+recall))"
   ]
  },
  {
   "cell_type": "markdown",
   "metadata": {},
   "source": [
    "Our model stayed around the same accuracy, precision, and F1 scores once again. (Made the exact same predictions)."
   ]
  },
  {
   "cell_type": "markdown",
   "metadata": {},
   "source": [
    "# Task 5 - Implement the L2 norm regularization.  - (4 points)\n",
    "\n",
    "\n",
    "\n",
    "Modify your Cost and gradient to implement the l2 norm regularization. Repeat the steps taken in prior tasks and describe your result.\n",
    "\n",
    " * Use a y-intercept.\n",
    " * Do a maximum of 100 iterations as before and report your accuracy, precision, recall and F1 score.\n",
    " * Optional: You can stop earlier, if the cost is not changing more than 0.001 between iterations.\n",
    " * Optional: You can use the bold driver, if you want. But a bold driver is not required to perform L2 norm regularizaiton.\n",
    "\n",
    "(4 points - 2 for code, 1 for cost visualizaiton, 1 for description.)"
   ]
  },
  {
   "cell_type": "code",
   "execution_count": 194,
   "metadata": {},
   "outputs": [
    {
     "name": "stdout",
     "output_type": "stream",
     "text": [
      "Epoch 0 cost: 0.6931471805599454\n",
      "Epoch 5 cost: 0.6887791609918356\n",
      "Epoch 10 cost: 0.6885729060202918\n",
      "Epoch 15 cost: 0.6884879058597315\n",
      "Epoch 20 cost: 0.6884091915268714\n",
      "Epoch 25 cost: 0.6883332768573297\n",
      "Epoch 30 cost: 0.6882599851978464\n",
      "Epoch 35 cost: 0.688189216400413\n",
      "Epoch 40 cost: 0.6881208795648437\n",
      "Epoch 45 cost: 0.6880548866955561\n",
      "Epoch 50 cost: 0.6879911531255452\n",
      "Epoch 55 cost: 0.6879295972906097\n",
      "Epoch 60 cost: 0.687870140631847\n",
      "Epoch 65 cost: 0.687812707481824\n",
      "Epoch 70 cost: 0.6877572249581989\n",
      "Epoch 75 cost: 0.6877036228606348\n",
      "Epoch 80 cost: 0.6876518335715505\n",
      "Epoch 85 cost: 0.6876017919604669\n",
      "Epoch 90 cost: 0.6875534352918499\n",
      "Epoch 95 cost: 0.6875067031363197\n"
     ]
    }
   ],
   "source": [
    "# Define ridge\n",
    "def ridge(penalty, weights):\n",
    "    # derivative of regularization w.r.t. any weight is just 2*weight since all other terms have no dependence\n",
    "    return penalty * weights\n",
    "\n",
    "# Set hyperparams\n",
    "weights4 = np.zeros(4)\n",
    "max_iter = 100\n",
    "learningRate = 0.0001\n",
    "penaltyAmp = 4\n",
    "cost_list = []\n",
    "iters = []\n",
    "\n",
    "# Run gradient descent\n",
    "for i in range(max_iter):\n",
    "\n",
    "    iters.append(i)\n",
    "    cost = cost_function(newIndependentTraining, dependentTraining, weights4)\n",
    "    if i%5 == 0:\n",
    "        print(\"Epoch \" + str(i) + \" cost:\", cost)\n",
    "    cost_list.append(cost)\n",
    "    \n",
    "    grad = gradient(newIndependentTraining, dependentTraining, weights4)\n",
    "    \n",
    "    weights4 = weights4 - learningRate * (grad + ridge(penaltyAmp, weights4)) "
   ]
  },
  {
   "cell_type": "code",
   "execution_count": 195,
   "metadata": {},
   "outputs": [
    {
     "data": {
      "image/png": "[encoded data removed]",
      "text/plain": [
       "<Figure size 640x480 with 1 Axes>"
      ]
     },
     "metadata": {},
     "output_type": "display_data"
    }
   ],
   "source": [
    "plt.plot(iters, cost_list)\n",
    "plt.title('Cost vs Epoch')\n",
    "plt.xlabel('Epoch')\n",
    "plt.ylabel('Cost')\n",
    "plt.show()"
   ]
  },
  {
   "cell_type": "code",
   "execution_count": 196,
   "metadata": {},
   "outputs": [
    {
     "name": "stdout",
     "output_type": "stream",
     "text": [
      "Predictions:  [0 0 0 0 0 0 0 0 0 0 0 0 0 0 0 0 0 0 0 0 0 0 0 0 0 0 0 0 0 0 0 1 0 0 0 0 0\n",
      " 0 0 0 0 0 0 0 0 0 0 0 0 0 0 0 0 0 0 0 0 0 1 0 0]\n",
      "Accuracy is:  0.47540983606557374\n",
      "Precision is:  0.5\n",
      "F1 Score:  0.058823529411764705\n",
      "Y-Intercept:  -0.0001436688696878586\n"
     ]
    }
   ],
   "source": [
    "def predict(weights, X):\n",
    "    p = sigmoid(X.dot(weights)) >= 0.5\n",
    "    return p.astype(int)\n",
    "\n",
    "predictions = predict(weights4, newIndependentTesting)\n",
    "correct = np.sum(predictions == dependentTesting)\n",
    "TP = np.sum((predictions == 1) & (dependentTesting == 1))\n",
    "FP = np.sum((predictions == 1) & (dependentTesting == 0))\n",
    "TN = np.sum((predictions == 0) & (dependentTesting == 0))\n",
    "FN = np.sum((predictions == 0) & (dependentTesting == 1))\n",
    "\n",
    "precision = TP/(TP + FP)\n",
    "recall = TP/(TP + FN)\n",
    "print(\"Predictions: \", predictions)\n",
    "print(\"Accuracy is: \", correct/dependentTesting.size)\n",
    "print(\"Precision is: \", precision)\n",
    "print(\"F1 Score: \", 2*(precision*recall)/(precision+recall))\n",
    "print('Y-Intercept: ', weights4[0])"
   ]
  },
  {
   "cell_type": "markdown",
   "metadata": {},
   "source": [
    "Accuracy stayed around the same, BUT we did make some different predictions with the regularizer. We now predicted some positives, leading to an actualy precision and F1 score. Out of all positive predictions, we predicted 50% of them correctly. However, our F1 score was very low. Our y-intercept was some magnitudes larger than in Q3, but still approximately zero. "
   ]
  },
  {
   "cell_type": "markdown",
   "metadata": {},
   "source": []
  }
 ],
 "metadata": {
  "kernelspec": {
   "display_name": "Python 3 (ipykernel)",
   "language": "python",
   "name": "python3"
  },
  "language_info": {
   "codemirror_mode": {
    "name": "ipython",
    "version": 3
   },
   "file_extension": ".py",
   "mimetype": "text/x-python",
   "name": "python",
   "nbconvert_exporter": "python",
   "pygments_lexer": "ipython3",
   "version": "3.11.7"
  }
 },
 "nbformat": 4,
 "nbformat_minor": 4
}
